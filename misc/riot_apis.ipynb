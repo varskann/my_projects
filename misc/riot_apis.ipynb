{
  "nbformat": 4,
  "nbformat_minor": 0,
  "metadata": {
    "colab": {
      "name": "riot_apis.ipynb",
      "provenance": [],
      "collapsed_sections": []
    },
    "kernelspec": {
      "name": "python3",
      "display_name": "Python 3"
    }
  },
  "cells": [
    {
      "cell_type": "markdown",
      "metadata": {
        "id": "vvPCKru37vAq",
        "colab_type": "text"
      },
      "source": [
        "Tutorial / Notebook to try riot game APIs"
      ]
    },
    {
      "cell_type": "code",
      "metadata": {
        "id": "nREx2LFCidTI",
        "colab_type": "code",
        "colab": {}
      },
      "source": [
        "## Get your RIOT developer key from https://developer.riotgames.com/\n",
        "api_key = \"RGAPI-a6d1a10f-ae43-4caa-9a41-40a9e6ac1fbe\""
      ],
      "execution_count": 0,
      "outputs": []
    },
    {
      "cell_type": "markdown",
      "metadata": {
        "id": "1_OrGSRnL4Sk",
        "colab_type": "text"
      },
      "source": [
        "# Using the [riotwatcher](https://github.com/pseudonym117/Riot-Watcher) wrapper "
      ]
    },
    {
      "cell_type": "code",
      "metadata": {
        "id": "XjvJ_g-_i-xI",
        "colab_type": "code",
        "outputId": "0156045d-b290-4343-afbc-f6f88892d185",
        "colab": {
          "base_uri": "https://localhost:8080/",
          "height": 119
        }
      },
      "source": [
        "!pip install riotwatcher"
      ],
      "execution_count": 0,
      "outputs": [
        {
          "output_type": "stream",
          "text": [
            "Requirement already satisfied: riotwatcher in /usr/local/lib/python3.6/dist-packages (3.0.0)\n",
            "Requirement already satisfied: requests in /usr/local/lib/python3.6/dist-packages (from riotwatcher) (2.21.0)\n",
            "Requirement already satisfied: chardet<3.1.0,>=3.0.2 in /usr/local/lib/python3.6/dist-packages (from requests->riotwatcher) (3.0.4)\n",
            "Requirement already satisfied: idna<2.9,>=2.5 in /usr/local/lib/python3.6/dist-packages (from requests->riotwatcher) (2.8)\n",
            "Requirement already satisfied: urllib3<1.25,>=1.21.1 in /usr/local/lib/python3.6/dist-packages (from requests->riotwatcher) (1.24.3)\n",
            "Requirement already satisfied: certifi>=2017.4.17 in /usr/local/lib/python3.6/dist-packages (from requests->riotwatcher) (2019.11.28)\n"
          ],
          "name": "stdout"
        }
      ]
    },
    {
      "cell_type": "code",
      "metadata": {
        "id": "0X4cO--sL0N9",
        "colab_type": "code",
        "colab": {}
      },
      "source": [
        "from riotwatcher import LolWatcher, ApiError\n",
        "lol_watcher = LolWatcher(api_key)\n",
        "my_region = \"euw1\"\n",
        "my_username = \"GrompStoleMyBeer\""
      ],
      "execution_count": 0,
      "outputs": []
    },
    {
      "cell_type": "code",
      "metadata": {
        "id": "diU3ws9BOim0",
        "colab_type": "code",
        "colab": {}
      },
      "source": [
        "import pandas as pd\n",
        "import pprint\n",
        "pp = pprint.PrettyPrinter(indent=4)"
      ],
      "execution_count": 0,
      "outputs": []
    },
    {
      "cell_type": "code",
      "metadata": {
        "id": "0_LXNqmMOs1f",
        "colab_type": "code",
        "outputId": "4ed7b5f3-3770-41e3-96e4-8e63e94ec031",
        "colab": {
          "base_uri": "https://localhost:8080/",
          "height": 136
        }
      },
      "source": [
        "myself = lol_watcher.summoner.by_name(my_region, my_username)\n",
        "pp.pprint(myself)"
      ],
      "execution_count": 0,
      "outputs": [
        {
          "output_type": "stream",
          "text": [
            "{   'accountId': 'z56xLr8w3h5PwYhzlBM5otoIoOjnIehDliLImXlQ70newGI',\n",
            "    'id': 'r70hGKHwym1QhLDmIInhGIHPGGjT8FAhjemjxp-9XHxVU3k',\n",
            "    'name': 'GrompStoleMyBeer',\n",
            "    'profileIconId': 4379,\n",
            "    'puuid': 'Pp0ISNuUWW2XTiu5_-C0F_ULk0CTs-cMKal6mXgWj_IRJtbeFAOm7Cp_0tGyBJ5zr3VzFUBPrin1Nw',\n",
            "    'revisionDate': 1584255505000,\n",
            "    'summonerLevel': 279}\n"
          ],
          "name": "stdout"
        }
      ]
    },
    {
      "cell_type": "code",
      "metadata": {
        "id": "R8S5UGVgO48r",
        "colab_type": "code",
        "outputId": "f5288df2-eeed-41f4-ea65-68d61da24f2f",
        "colab": {
          "base_uri": "https://localhost:8080/",
          "height": 34
        }
      },
      "source": [
        "## Fetch Champion Mastery\n",
        "_total_mastery = lol_watcher.champion_mastery.scores_by_summoner(my_region, \n",
        "                                                                 myself[\"id\"])\n",
        "pp.pprint(\"total mnastery on all champions = %s\"%_total_mastery)"
      ],
      "execution_count": 0,
      "outputs": [
        {
          "output_type": "stream",
          "text": [
            "'total mnastery on all champions = 605'\n"
          ],
          "name": "stdout"
        }
      ]
    },
    {
      "cell_type": "code",
      "metadata": {
        "id": "6TY-X3Vpv7cc",
        "colab_type": "code",
        "outputId": "cdbbbb55-1a85-4330-c9df-41285ba38eb6",
        "colab": {
          "base_uri": "https://localhost:8080/",
          "height": 204
        }
      },
      "source": [
        "_champion_mastery = lol_watcher.champion_mastery.by_summoner(my_region, myself[\"id\"])\n",
        "df = pd.DataFrame(_champion_mastery)\n",
        "df.head()"
      ],
      "execution_count": 0,
      "outputs": [
        {
          "output_type": "execute_result",
          "data": {
            "text/html": [
              "<div>\n",
              "<style scoped>\n",
              "    .dataframe tbody tr th:only-of-type {\n",
              "        vertical-align: middle;\n",
              "    }\n",
              "\n",
              "    .dataframe tbody tr th {\n",
              "        vertical-align: top;\n",
              "    }\n",
              "\n",
              "    .dataframe thead th {\n",
              "        text-align: right;\n",
              "    }\n",
              "</style>\n",
              "<table border=\"1\" class=\"dataframe\">\n",
              "  <thead>\n",
              "    <tr style=\"text-align: right;\">\n",
              "      <th></th>\n",
              "      <th>championId</th>\n",
              "      <th>championLevel</th>\n",
              "      <th>championPoints</th>\n",
              "      <th>lastPlayTime</th>\n",
              "      <th>championPointsSinceLastLevel</th>\n",
              "      <th>championPointsUntilNextLevel</th>\n",
              "      <th>chestGranted</th>\n",
              "      <th>tokensEarned</th>\n",
              "      <th>summonerId</th>\n",
              "    </tr>\n",
              "  </thead>\n",
              "  <tbody>\n",
              "    <tr>\n",
              "      <th>0</th>\n",
              "      <td>122</td>\n",
              "      <td>7</td>\n",
              "      <td>316973</td>\n",
              "      <td>1583044228000</td>\n",
              "      <td>295373</td>\n",
              "      <td>0</td>\n",
              "      <td>False</td>\n",
              "      <td>0</td>\n",
              "      <td>r70hGKHwym1QhLDmIInhGIHPGGjT8FAhjemjxp-9XHxVU3k</td>\n",
              "    </tr>\n",
              "    <tr>\n",
              "      <th>1</th>\n",
              "      <td>86</td>\n",
              "      <td>7</td>\n",
              "      <td>305708</td>\n",
              "      <td>1582974027000</td>\n",
              "      <td>284108</td>\n",
              "      <td>0</td>\n",
              "      <td>False</td>\n",
              "      <td>0</td>\n",
              "      <td>r70hGKHwym1QhLDmIInhGIHPGGjT8FAhjemjxp-9XHxVU3k</td>\n",
              "    </tr>\n",
              "    <tr>\n",
              "      <th>2</th>\n",
              "      <td>157</td>\n",
              "      <td>7</td>\n",
              "      <td>304319</td>\n",
              "      <td>1583529698000</td>\n",
              "      <td>282719</td>\n",
              "      <td>0</td>\n",
              "      <td>False</td>\n",
              "      <td>0</td>\n",
              "      <td>r70hGKHwym1QhLDmIInhGIHPGGjT8FAhjemjxp-9XHxVU3k</td>\n",
              "    </tr>\n",
              "    <tr>\n",
              "      <th>3</th>\n",
              "      <td>53</td>\n",
              "      <td>7</td>\n",
              "      <td>251109</td>\n",
              "      <td>1583526837000</td>\n",
              "      <td>229509</td>\n",
              "      <td>0</td>\n",
              "      <td>False</td>\n",
              "      <td>0</td>\n",
              "      <td>r70hGKHwym1QhLDmIInhGIHPGGjT8FAhjemjxp-9XHxVU3k</td>\n",
              "    </tr>\n",
              "    <tr>\n",
              "      <th>4</th>\n",
              "      <td>11</td>\n",
              "      <td>7</td>\n",
              "      <td>221759</td>\n",
              "      <td>1584255505000</td>\n",
              "      <td>200159</td>\n",
              "      <td>0</td>\n",
              "      <td>True</td>\n",
              "      <td>0</td>\n",
              "      <td>r70hGKHwym1QhLDmIInhGIHPGGjT8FAhjemjxp-9XHxVU3k</td>\n",
              "    </tr>\n",
              "  </tbody>\n",
              "</table>\n",
              "</div>"
            ],
            "text/plain": [
              "   championId  ...                                       summonerId\n",
              "0         122  ...  r70hGKHwym1QhLDmIInhGIHPGGjT8FAhjemjxp-9XHxVU3k\n",
              "1          86  ...  r70hGKHwym1QhLDmIInhGIHPGGjT8FAhjemjxp-9XHxVU3k\n",
              "2         157  ...  r70hGKHwym1QhLDmIInhGIHPGGjT8FAhjemjxp-9XHxVU3k\n",
              "3          53  ...  r70hGKHwym1QhLDmIInhGIHPGGjT8FAhjemjxp-9XHxVU3k\n",
              "4          11  ...  r70hGKHwym1QhLDmIInhGIHPGGjT8FAhjemjxp-9XHxVU3k\n",
              "\n",
              "[5 rows x 9 columns]"
            ]
          },
          "metadata": {
            "tags": []
          },
          "execution_count": 27
        }
      ]
    },
    {
      "cell_type": "code",
      "metadata": {
        "id": "sV9lBTJrwdxL",
        "colab_type": "code",
        "outputId": "c45d3265-2316-4f94-ce09-eb7581656a87",
        "colab": {
          "base_uri": "https://localhost:8080/",
          "height": 306
        }
      },
      "source": [
        "_free_champs_to_play = lol_watcher.champion.rotations(my_region)\n",
        "pp.pprint(_free_champs_to_play)"
      ],
      "execution_count": 0,
      "outputs": [
        {
          "output_type": "stream",
          "text": [
            "{   'freeChampionIds': [   8,\n",
            "                           21,\n",
            "                           28,\n",
            "                           33,\n",
            "                           42,\n",
            "                           59,\n",
            "                           78,\n",
            "                           86,\n",
            "                           114,\n",
            "                           133,\n",
            "                           136,\n",
            "                           201,\n",
            "                           412,\n",
            "                           429,\n",
            "                           518],\n",
            "    'freeChampionIdsForNewPlayers': [18, 81, 92, 141, 37, 238, 19, 45, 25, 64],\n",
            "    'maxNewPlayerLevel': 10}\n"
          ],
          "name": "stdout"
        }
      ]
    },
    {
      "cell_type": "code",
      "metadata": {
        "id": "Ain-CQ001Re-",
        "colab_type": "code",
        "outputId": "fc0d5569-dbf9-4e63-c5b9-f33a64e2163f",
        "colab": {
          "base_uri": "https://localhost:8080/",
          "height": 204
        }
      },
      "source": [
        "_data = lol_watcher.data_dragon.champions(\"10.4.1\", full=True)\n",
        "_df_champion_ids = pd.DataFrame([[int(k), v] for k, v in _data[\"keys\"].items()], columns=[\"championId\", \"championName\"])\n",
        "_df_champion_ids.head()"
      ],
      "execution_count": 0,
      "outputs": [
        {
          "output_type": "execute_result",
          "data": {
            "text/html": [
              "<div>\n",
              "<style scoped>\n",
              "    .dataframe tbody tr th:only-of-type {\n",
              "        vertical-align: middle;\n",
              "    }\n",
              "\n",
              "    .dataframe tbody tr th {\n",
              "        vertical-align: top;\n",
              "    }\n",
              "\n",
              "    .dataframe thead th {\n",
              "        text-align: right;\n",
              "    }\n",
              "</style>\n",
              "<table border=\"1\" class=\"dataframe\">\n",
              "  <thead>\n",
              "    <tr style=\"text-align: right;\">\n",
              "      <th></th>\n",
              "      <th>championId</th>\n",
              "      <th>championName</th>\n",
              "    </tr>\n",
              "  </thead>\n",
              "  <tbody>\n",
              "    <tr>\n",
              "      <th>0</th>\n",
              "      <td>266</td>\n",
              "      <td>Aatrox</td>\n",
              "    </tr>\n",
              "    <tr>\n",
              "      <th>1</th>\n",
              "      <td>103</td>\n",
              "      <td>Ahri</td>\n",
              "    </tr>\n",
              "    <tr>\n",
              "      <th>2</th>\n",
              "      <td>84</td>\n",
              "      <td>Akali</td>\n",
              "    </tr>\n",
              "    <tr>\n",
              "      <th>3</th>\n",
              "      <td>12</td>\n",
              "      <td>Alistar</td>\n",
              "    </tr>\n",
              "    <tr>\n",
              "      <th>4</th>\n",
              "      <td>32</td>\n",
              "      <td>Amumu</td>\n",
              "    </tr>\n",
              "  </tbody>\n",
              "</table>\n",
              "</div>"
            ],
            "text/plain": [
              "   championId championName\n",
              "0         266       Aatrox\n",
              "1         103         Ahri\n",
              "2          84        Akali\n",
              "3          12      Alistar\n",
              "4          32        Amumu"
            ]
          },
          "metadata": {
            "tags": []
          },
          "execution_count": 29
        }
      ]
    },
    {
      "cell_type": "code",
      "metadata": {
        "id": "RNCAa07Y1scU",
        "colab_type": "code",
        "outputId": "23c29726-a23c-4c51-9b90-37f1a0ec1f3d",
        "colab": {
          "base_uri": "https://localhost:8080/",
          "height": 359
        }
      },
      "source": [
        "df = df.merge(_df_champion_ids, on=[\"championId\"])\n",
        "df.head(10)"
      ],
      "execution_count": 0,
      "outputs": [
        {
          "output_type": "execute_result",
          "data": {
            "text/html": [
              "<div>\n",
              "<style scoped>\n",
              "    .dataframe tbody tr th:only-of-type {\n",
              "        vertical-align: middle;\n",
              "    }\n",
              "\n",
              "    .dataframe tbody tr th {\n",
              "        vertical-align: top;\n",
              "    }\n",
              "\n",
              "    .dataframe thead th {\n",
              "        text-align: right;\n",
              "    }\n",
              "</style>\n",
              "<table border=\"1\" class=\"dataframe\">\n",
              "  <thead>\n",
              "    <tr style=\"text-align: right;\">\n",
              "      <th></th>\n",
              "      <th>championId</th>\n",
              "      <th>championLevel</th>\n",
              "      <th>championPoints</th>\n",
              "      <th>lastPlayTime</th>\n",
              "      <th>championPointsSinceLastLevel</th>\n",
              "      <th>championPointsUntilNextLevel</th>\n",
              "      <th>chestGranted</th>\n",
              "      <th>tokensEarned</th>\n",
              "      <th>summonerId</th>\n",
              "      <th>championName</th>\n",
              "    </tr>\n",
              "  </thead>\n",
              "  <tbody>\n",
              "    <tr>\n",
              "      <th>0</th>\n",
              "      <td>122</td>\n",
              "      <td>7</td>\n",
              "      <td>316973</td>\n",
              "      <td>1583044228000</td>\n",
              "      <td>295373</td>\n",
              "      <td>0</td>\n",
              "      <td>False</td>\n",
              "      <td>0</td>\n",
              "      <td>r70hGKHwym1QhLDmIInhGIHPGGjT8FAhjemjxp-9XHxVU3k</td>\n",
              "      <td>Darius</td>\n",
              "    </tr>\n",
              "    <tr>\n",
              "      <th>1</th>\n",
              "      <td>86</td>\n",
              "      <td>7</td>\n",
              "      <td>305708</td>\n",
              "      <td>1582974027000</td>\n",
              "      <td>284108</td>\n",
              "      <td>0</td>\n",
              "      <td>False</td>\n",
              "      <td>0</td>\n",
              "      <td>r70hGKHwym1QhLDmIInhGIHPGGjT8FAhjemjxp-9XHxVU3k</td>\n",
              "      <td>Garen</td>\n",
              "    </tr>\n",
              "    <tr>\n",
              "      <th>2</th>\n",
              "      <td>157</td>\n",
              "      <td>7</td>\n",
              "      <td>304319</td>\n",
              "      <td>1583529698000</td>\n",
              "      <td>282719</td>\n",
              "      <td>0</td>\n",
              "      <td>False</td>\n",
              "      <td>0</td>\n",
              "      <td>r70hGKHwym1QhLDmIInhGIHPGGjT8FAhjemjxp-9XHxVU3k</td>\n",
              "      <td>Yasuo</td>\n",
              "    </tr>\n",
              "    <tr>\n",
              "      <th>3</th>\n",
              "      <td>53</td>\n",
              "      <td>7</td>\n",
              "      <td>251109</td>\n",
              "      <td>1583526837000</td>\n",
              "      <td>229509</td>\n",
              "      <td>0</td>\n",
              "      <td>False</td>\n",
              "      <td>0</td>\n",
              "      <td>r70hGKHwym1QhLDmIInhGIHPGGjT8FAhjemjxp-9XHxVU3k</td>\n",
              "      <td>Blitzcrank</td>\n",
              "    </tr>\n",
              "    <tr>\n",
              "      <th>4</th>\n",
              "      <td>11</td>\n",
              "      <td>7</td>\n",
              "      <td>221759</td>\n",
              "      <td>1584255505000</td>\n",
              "      <td>200159</td>\n",
              "      <td>0</td>\n",
              "      <td>True</td>\n",
              "      <td>0</td>\n",
              "      <td>r70hGKHwym1QhLDmIInhGIHPGGjT8FAhjemjxp-9XHxVU3k</td>\n",
              "      <td>MasterYi</td>\n",
              "    </tr>\n",
              "    <tr>\n",
              "      <th>5</th>\n",
              "      <td>238</td>\n",
              "      <td>7</td>\n",
              "      <td>206923</td>\n",
              "      <td>1580027771000</td>\n",
              "      <td>185323</td>\n",
              "      <td>0</td>\n",
              "      <td>False</td>\n",
              "      <td>0</td>\n",
              "      <td>r70hGKHwym1QhLDmIInhGIHPGGjT8FAhjemjxp-9XHxVU3k</td>\n",
              "      <td>Zed</td>\n",
              "    </tr>\n",
              "    <tr>\n",
              "      <th>6</th>\n",
              "      <td>64</td>\n",
              "      <td>7</td>\n",
              "      <td>179715</td>\n",
              "      <td>1584193615000</td>\n",
              "      <td>158115</td>\n",
              "      <td>0</td>\n",
              "      <td>False</td>\n",
              "      <td>0</td>\n",
              "      <td>r70hGKHwym1QhLDmIInhGIHPGGjT8FAhjemjxp-9XHxVU3k</td>\n",
              "      <td>LeeSin</td>\n",
              "    </tr>\n",
              "    <tr>\n",
              "      <th>7</th>\n",
              "      <td>107</td>\n",
              "      <td>7</td>\n",
              "      <td>132385</td>\n",
              "      <td>1584024333000</td>\n",
              "      <td>110785</td>\n",
              "      <td>0</td>\n",
              "      <td>False</td>\n",
              "      <td>0</td>\n",
              "      <td>r70hGKHwym1QhLDmIInhGIHPGGjT8FAhjemjxp-9XHxVU3k</td>\n",
              "      <td>Rengar</td>\n",
              "    </tr>\n",
              "    <tr>\n",
              "      <th>8</th>\n",
              "      <td>58</td>\n",
              "      <td>7</td>\n",
              "      <td>114184</td>\n",
              "      <td>1581195525000</td>\n",
              "      <td>92584</td>\n",
              "      <td>0</td>\n",
              "      <td>False</td>\n",
              "      <td>0</td>\n",
              "      <td>r70hGKHwym1QhLDmIInhGIHPGGjT8FAhjemjxp-9XHxVU3k</td>\n",
              "      <td>Renekton</td>\n",
              "    </tr>\n",
              "    <tr>\n",
              "      <th>9</th>\n",
              "      <td>24</td>\n",
              "      <td>7</td>\n",
              "      <td>108703</td>\n",
              "      <td>1583348119000</td>\n",
              "      <td>87103</td>\n",
              "      <td>0</td>\n",
              "      <td>False</td>\n",
              "      <td>0</td>\n",
              "      <td>r70hGKHwym1QhLDmIInhGIHPGGjT8FAhjemjxp-9XHxVU3k</td>\n",
              "      <td>Jax</td>\n",
              "    </tr>\n",
              "  </tbody>\n",
              "</table>\n",
              "</div>"
            ],
            "text/plain": [
              "   championId  ...  championName\n",
              "0         122  ...        Darius\n",
              "1          86  ...         Garen\n",
              "2         157  ...         Yasuo\n",
              "3          53  ...    Blitzcrank\n",
              "4          11  ...      MasterYi\n",
              "5         238  ...           Zed\n",
              "6          64  ...        LeeSin\n",
              "7         107  ...        Rengar\n",
              "8          58  ...      Renekton\n",
              "9          24  ...           Jax\n",
              "\n",
              "[10 rows x 10 columns]"
            ]
          },
          "metadata": {
            "tags": []
          },
          "execution_count": 30
        }
      ]
    },
    {
      "cell_type": "code",
      "metadata": {
        "id": "t6XCYhuL4nUp",
        "colab_type": "code",
        "outputId": "19ad2cb1-b369-4d9f-9282-dc9710aa4f73",
        "colab": {
          "base_uri": "https://localhost:8080/",
          "height": 54
        }
      },
      "source": [
        "_versions = lol_watcher.data_dragon.versions_for_region(region=my_region)\n",
        "print(_versions)"
      ],
      "execution_count": 0,
      "outputs": [
        {
          "output_type": "stream",
          "text": [
            "{'n': {'item': '10.5.1', 'rune': '7.23.1', 'mastery': '7.23.1', 'summoner': '10.5.1', 'champion': '10.5.1', 'profileicon': '10.5.1', 'map': '10.5.1', 'language': '10.5.1', 'sticker': '10.5.1'}, 'v': '10.5.1', 'l': 'en_GB', 'cdn': 'https://ddragon.leagueoflegends.com/cdn', 'dd': '10.5.1', 'lg': '10.5.1', 'css': '10.5.1', 'profileiconmax': 28, 'store': None}\n"
          ],
          "name": "stdout"
        }
      ]
    },
    {
      "cell_type": "code",
      "metadata": {
        "id": "ytuM694Q5LnB",
        "colab_type": "code",
        "colab": {}
      },
      "source": [
        ""
      ],
      "execution_count": 0,
      "outputs": []
    },
    {
      "cell_type": "code",
      "metadata": {
        "colab_type": "code",
        "outputId": "7c93ba5e-e141-40fc-e0f1-3b6ed8c0af85",
        "id": "uBGz6BjYsbdk",
        "colab": {
          "base_uri": "https://localhost:8080/",
          "height": 54
        }
      },
      "source": [
        "_summoner = lol_watcher.league.by_summoner(region=my_region, encrypted_summoner_id=myself[\"id\"])\n",
        "print(_summoner)"
      ],
      "execution_count": 0,
      "outputs": [
        {
          "output_type": "stream",
          "text": [
            "[{'leagueId': '6a639576-420d-4d7d-9525-3116ee9a2eed', 'queueType': 'RANKED_SOLO_5x5', 'tier': 'SILVER', 'rank': 'IV', 'summonerId': 'r70hGKHwym1QhLDmIInhGIHPGGjT8FAhjemjxp-9XHxVU3k', 'summonerName': 'GrompStoleMyBeer', 'leaguePoints': 0, 'wins': 49, 'losses': 52, 'veteran': False, 'inactive': False, 'freshBlood': False, 'hotStreak': False}]\n"
          ],
          "name": "stdout"
        }
      ]
    },
    {
      "cell_type": "code",
      "metadata": {
        "id": "tSxYGAp5surT",
        "colab_type": "code",
        "outputId": "68e92118-d1d0-416b-83ca-e2aa6706522b",
        "colab": {
          "base_uri": "https://localhost:8080/",
          "height": 54
        }
      },
      "source": [
        "_match = lol_watcher.match.matchlist_by_account(region=my_region, \n",
        "                                                begin_time=1579033977000,\n",
        "                                                encrypted_account_id =myself[\"accountId\"])\n",
        "print(_match)"
      ],
      "execution_count": 0,
      "outputs": [
        {
          "output_type": "stream",
          "text": [
            "{'matches': [{'platformId': 'EUW1', 'gameId': 4455282586, 'champion': 11, 'queue': 420, 'season': 13, 'timestamp': 1584254172477, 'role': 'NONE', 'lane': 'JUNGLE'}, {'platformId': 'EUW1', 'gameId': 4455301664, 'champion': 245, 'queue': 420, 'season': 13, 'timestamp': 1584252148519, 'role': 'SOLO', 'lane': 'MID'}, {'platformId': 'EUW1', 'gameId': 4455280913, 'champion': 68, 'queue': 420, 'season': 13, 'timestamp': 1584249681026, 'role': 'SOLO', 'lane': 'MID'}, {'platformId': 'EUW1', 'gameId': 4454270725, 'champion': 74, 'queue': 420, 'season': 13, 'timestamp': 1584203555072, 'role': 'DUO_CARRY', 'lane': 'BOTTOM'}, {'platformId': 'EUW1', 'gameId': 4453672745, 'champion': 64, 'queue': 420, 'season': 13, 'timestamp': 1584191712987, 'role': 'NONE', 'lane': 'JUNGLE'}, {'platformId': 'EUW1', 'gameId': 4453485061, 'champion': 245, 'queue': 420, 'season': 13, 'timestamp': 1584188717172, 'role': 'NONE', 'lane': 'JUNGLE'}, {'platformId': 'EUW1', 'gameId': 4453349376, 'champion': 115, 'queue': 420, 'season': 13, 'timestamp': 1584181617063, 'role': 'SOLO', 'lane': 'MID'}, {'platformId': 'EUW1', 'gameId': 4453247453, 'champion': 154, 'queue': 420, 'season': 13, 'timestamp': 1584169034957, 'role': 'NONE', 'lane': 'JUNGLE'}, {'platformId': 'EUW1', 'gameId': 4453255641, 'champion': 11, 'queue': 420, 'season': 13, 'timestamp': 1584164542136, 'role': 'NONE', 'lane': 'JUNGLE'}, {'platformId': 'EUW1', 'gameId': 4452834504, 'champion': 222, 'queue': 450, 'season': 13, 'timestamp': 1584135855191, 'role': 'DUO', 'lane': 'NONE'}, {'platformId': 'EUW1', 'gameId': 4452758736, 'champion': 59, 'queue': 450, 'season': 13, 'timestamp': 1584134255895, 'role': 'SOLO', 'lane': 'TOP'}, {'platformId': 'EUW1', 'gameId': 4452603348, 'champion': 420, 'queue': 420, 'season': 13, 'timestamp': 1584126798523, 'role': 'SOLO', 'lane': 'TOP'}, {'platformId': 'EUW1', 'gameId': 4452329249, 'champion': 875, 'queue': 420, 'season': 13, 'timestamp': 1584118708557, 'role': 'NONE', 'lane': 'JUNGLE'}, {'platformId': 'EUW1', 'gameId': 4452312763, 'champion': 35, 'queue': 420, 'season': 13, 'timestamp': 1584116470383, 'role': 'NONE', 'lane': 'JUNGLE'}, {'platformId': 'EUW1', 'gameId': 4452256095, 'champion': 11, 'queue': 420, 'season': 13, 'timestamp': 1584114166297, 'role': 'NONE', 'lane': 'JUNGLE'}, {'platformId': 'EUW1', 'gameId': 4452104750, 'champion': 11, 'queue': 420, 'season': 13, 'timestamp': 1584109882839, 'role': 'NONE', 'lane': 'JUNGLE'}, {'platformId': 'EUW1', 'gameId': 4451986880, 'champion': 48, 'queue': 420, 'season': 13, 'timestamp': 1584101580667, 'role': 'NONE', 'lane': 'JUNGLE'}, {'platformId': 'EUW1', 'gameId': 4452000913, 'champion': 429, 'queue': 400, 'season': 13, 'timestamp': 1584098192491, 'role': 'SOLO', 'lane': 'TOP'}, {'platformId': 'EUW1', 'gameId': 4451877825, 'champion': 429, 'queue': 400, 'season': 13, 'timestamp': 1584095796033, 'role': 'NONE', 'lane': 'JUNGLE'}, {'platformId': 'EUW1', 'gameId': 4450729494, 'champion': 161, 'queue': 450, 'season': 13, 'timestamp': 1584036201521, 'role': 'DUO_SUPPORT', 'lane': 'NONE'}, {'platformId': 'EUW1', 'gameId': 4450655195, 'champion': 48, 'queue': 420, 'season': 13, 'timestamp': 1584031279270, 'role': 'NONE', 'lane': 'JUNGLE'}, {'platformId': 'EUW1', 'gameId': 4450564667, 'champion': 35, 'queue': 420, 'season': 13, 'timestamp': 1584027074571, 'role': 'NONE', 'lane': 'JUNGLE'}, {'platformId': 'EUW1', 'gameId': 4450454817, 'champion': 107, 'queue': 420, 'season': 13, 'timestamp': 1584022703843, 'role': 'NONE', 'lane': 'JUNGLE'}, {'platformId': 'EUW1', 'gameId': 4450346282, 'champion': 35, 'queue': 420, 'season': 13, 'timestamp': 1584018011768, 'role': 'NONE', 'lane': 'JUNGLE'}, {'platformId': 'EUW1', 'gameId': 4449524119, 'champion': 104, 'queue': 420, 'season': 13, 'timestamp': 1583949791487, 'role': 'NONE', 'lane': 'JUNGLE'}, {'platformId': 'EUW1', 'gameId': 4449393066, 'champion': 11, 'queue': 420, 'season': 13, 'timestamp': 1583941577583, 'role': 'NONE', 'lane': 'JUNGLE'}, {'platformId': 'EUW1', 'gameId': 4449226263, 'champion': 11, 'queue': 420, 'season': 13, 'timestamp': 1583938499123, 'role': 'NONE', 'lane': 'JUNGLE'}, {'platformId': 'EUW1', 'gameId': 4449281482, 'champion': 875, 'queue': 420, 'season': 13, 'timestamp': 1583936175352, 'role': 'DUO', 'lane': 'NONE'}, {'platformId': 'EUW1', 'gameId': 4443422842, 'champion': 36, 'queue': 420, 'season': 13, 'timestamp': 1583599140969, 'role': 'NONE', 'lane': 'JUNGLE'}, {'platformId': 'EUW1', 'gameId': 4443066874, 'champion': 11, 'queue': 420, 'season': 13, 'timestamp': 1583585093795, 'role': 'NONE', 'lane': 'JUNGLE'}, {'platformId': 'EUW1', 'gameId': 4442942925, 'champion': 875, 'queue': 420, 'season': 13, 'timestamp': 1583577669020, 'role': 'NONE', 'lane': 'JUNGLE'}, {'platformId': 'EUW1', 'gameId': 4442908384, 'champion': 875, 'queue': 420, 'season': 13, 'timestamp': 1583575147264, 'role': 'DUO_SUPPORT', 'lane': 'NONE'}, {'platformId': 'EUW1', 'gameId': 4442770084, 'champion': 17, 'queue': 420, 'season': 13, 'timestamp': 1583563831805, 'role': 'SOLO', 'lane': 'TOP'}, {'platformId': 'EUW1', 'gameId': 4442799506, 'champion': 17, 'queue': 420, 'season': 13, 'timestamp': 1583563200996, 'role': 'DUO', 'lane': 'NONE'}, {'platformId': 'EUW1', 'gameId': 4442349777, 'champion': 157, 'queue': 420, 'season': 13, 'timestamp': 1583527309540, 'role': 'SOLO', 'lane': 'TOP'}, {'platformId': 'EUW1', 'gameId': 4442292974, 'champion': 53, 'queue': 420, 'season': 13, 'timestamp': 1583524695059, 'role': 'DUO_SUPPORT', 'lane': 'BOTTOM'}, {'platformId': 'EUW1', 'gameId': 4442097154, 'champion': 875, 'queue': 420, 'season': 13, 'timestamp': 1583514960744, 'role': 'NONE', 'lane': 'JUNGLE'}, {'platformId': 'EUW1', 'gameId': 4441930868, 'champion': 875, 'queue': 420, 'season': 13, 'timestamp': 1583507915765, 'role': 'NONE', 'lane': 'JUNGLE'}, {'platformId': 'EUW1', 'gameId': 4441852223, 'champion': 875, 'queue': 420, 'season': 13, 'timestamp': 1583504227256, 'role': 'NONE', 'lane': 'JUNGLE'}, {'platformId': 'EUW1', 'gameId': 4441817099, 'champion': 33, 'queue': 420, 'season': 13, 'timestamp': 1583501886257, 'role': 'NONE', 'lane': 'JUNGLE'}, {'platformId': 'EUW1', 'gameId': 4440326267, 'champion': 11, 'queue': 420, 'season': 13, 'timestamp': 1583420671553, 'role': 'NONE', 'lane': 'JUNGLE'}, {'platformId': 'EUW1', 'gameId': 4440332957, 'champion': 875, 'queue': 420, 'season': 13, 'timestamp': 1583419055156, 'role': 'NONE', 'lane': 'JUNGLE'}, {'platformId': 'EUW1', 'gameId': 4439531062, 'champion': 24, 'queue': 420, 'season': 13, 'timestamp': 1583345987904, 'role': 'NONE', 'lane': 'JUNGLE'}, {'platformId': 'EUW1', 'gameId': 4439294830, 'champion': 875, 'queue': 420, 'season': 13, 'timestamp': 1583334942013, 'role': 'NONE', 'lane': 'JUNGLE'}, {'platformId': 'EUW1', 'gameId': 4437748634, 'champion': 875, 'queue': 420, 'season': 13, 'timestamp': 1583250586111, 'role': 'NONE', 'lane': 'JUNGLE'}, {'platformId': 'EUW1', 'gameId': 4436964138, 'champion': 131, 'queue': 420, 'season': 13, 'timestamp': 1583176440967, 'role': 'SOLO', 'lane': 'MID'}, {'platformId': 'EUW1', 'gameId': 4436878533, 'champion': 77, 'queue': 420, 'season': 13, 'timestamp': 1583174378621, 'role': 'NONE', 'lane': 'JUNGLE'}, {'platformId': 'EUW1', 'gameId': 4434804024, 'champion': 2, 'queue': 420, 'season': 13, 'timestamp': 1583061198696, 'role': 'DUO', 'lane': 'NONE'}, {'platformId': 'EUW1', 'gameId': 4434706955, 'champion': 875, 'queue': 420, 'season': 13, 'timestamp': 1583056643100, 'role': 'NONE', 'lane': 'JUNGLE'}, {'platformId': 'EUW1', 'gameId': 4434644315, 'champion': 875, 'queue': 420, 'season': 13, 'timestamp': 1583051850173, 'role': 'NONE', 'lane': 'JUNGLE'}, {'platformId': 'EUW1', 'gameId': 4434640478, 'champion': 35, 'queue': 420, 'season': 13, 'timestamp': 1583044618913, 'role': 'NONE', 'lane': 'JUNGLE'}, {'platformId': 'EUW1', 'gameId': 4434588666, 'champion': 122, 'queue': 420, 'season': 13, 'timestamp': 1583042125877, 'role': 'SOLO', 'lane': 'TOP'}, {'platformId': 'EUW1', 'gameId': 4433080601, 'champion': 86, 'queue': 420, 'season': 13, 'timestamp': 1582972233631, 'role': 'NONE', 'lane': 'JUNGLE'}, {'platformId': 'EUW1', 'gameId': 4432946668, 'champion': 48, 'queue': 420, 'season': 13, 'timestamp': 1582968431035, 'role': 'NONE', 'lane': 'JUNGLE'}, {'platformId': 'EUW1', 'gameId': 4432974160, 'champion': 245, 'queue': 420, 'season': 13, 'timestamp': 1582966191629, 'role': 'NONE', 'lane': 'JUNGLE'}, {'platformId': 'EUW1', 'gameId': 4432909829, 'champion': 35, 'queue': 420, 'season': 13, 'timestamp': 1582959580403, 'role': 'NONE', 'lane': 'JUNGLE'}, {'platformId': 'EUW1', 'gameId': 4431765766, 'champion': 2, 'queue': 420, 'season': 13, 'timestamp': 1582886055477, 'role': 'NONE', 'lane': 'JUNGLE'}, {'platformId': 'EUW1', 'gameId': 4427951532, 'champion': 24, 'queue': 420, 'season': 13, 'timestamp': 1582645549778, 'role': 'NONE', 'lane': 'JUNGLE'}, {'platformId': 'EUW1', 'gameId': 4427490916, 'champion': 24, 'queue': 420, 'season': 13, 'timestamp': 1582636312301, 'role': 'NONE', 'lane': 'JUNGLE'}, {'platformId': 'EUW1', 'gameId': 4424555161, 'champion': 254, 'queue': 420, 'season': 13, 'timestamp': 1582463351765, 'role': 'NONE', 'lane': 'JUNGLE'}, {'platformId': 'EUW1', 'gameId': 4424356645, 'champion': 875, 'queue': 420, 'season': 13, 'timestamp': 1582448146496, 'role': 'NONE', 'lane': 'JUNGLE'}, {'platformId': 'EUW1', 'gameId': 4424331663, 'champion': 875, 'queue': 420, 'season': 13, 'timestamp': 1582439583618, 'role': 'NONE', 'lane': 'JUNGLE'}, {'platformId': 'EUW1', 'gameId': 4424259274, 'champion': 254, 'queue': 420, 'season': 13, 'timestamp': 1582433636328, 'role': 'NONE', 'lane': 'JUNGLE'}, {'platformId': 'EUW1', 'gameId': 4423877161, 'champion': 122, 'queue': 420, 'season': 13, 'timestamp': 1582404136723, 'role': 'SOLO', 'lane': 'MID'}, {'platformId': 'EUW1', 'gameId': 4423515993, 'champion': 11, 'queue': 420, 'season': 13, 'timestamp': 1582389740552, 'role': 'NONE', 'lane': 'JUNGLE'}, {'platformId': 'EUW1', 'gameId': 4423349288, 'champion': 24, 'queue': 420, 'season': 13, 'timestamp': 1582384067803, 'role': 'NONE', 'lane': 'JUNGLE'}, {'platformId': 'EUW1', 'gameId': 4423070222, 'champion': 24, 'queue': 420, 'season': 13, 'timestamp': 1582368566328, 'role': 'NONE', 'lane': 'JUNGLE'}, {'platformId': 'EUW1', 'gameId': 4422955679, 'champion': 5, 'queue': 420, 'season': 13, 'timestamp': 1582356752240, 'role': 'NONE', 'lane': 'JUNGLE'}, {'platformId': 'EUW1', 'gameId': 4423014008, 'champion': 11, 'queue': 420, 'season': 13, 'timestamp': 1582354081694, 'role': 'NONE', 'lane': 'JUNGLE'}, {'platformId': 'EUW1', 'gameId': 4422109632, 'champion': 245, 'queue': 420, 'season': 13, 'timestamp': 1582306186547, 'role': 'NONE', 'lane': 'JUNGLE'}, {'platformId': 'EUW1', 'gameId': 4421929352, 'champion': 68, 'queue': 420, 'season': 13, 'timestamp': 1582297818667, 'role': 'SOLO', 'lane': 'MID'}, {'platformId': 'EUW1', 'gameId': 4421718121, 'champion': 11, 'queue': 420, 'season': 13, 'timestamp': 1582286453710, 'role': 'NONE', 'lane': 'JUNGLE'}, {'platformId': 'EUW1', 'gameId': 4420523644, 'champion': 24, 'queue': 420, 'season': 13, 'timestamp': 1582207851633, 'role': 'NONE', 'lane': 'JUNGLE'}, {'platformId': 'EUW1', 'gameId': 4419058232, 'champion': 24, 'queue': 420, 'season': 13, 'timestamp': 1582122281702, 'role': 'NONE', 'lane': 'JUNGLE'}, {'platformId': 'EUW1', 'gameId': 4418181866, 'champion': 254, 'queue': 900, 'season': 13, 'timestamp': 1582050241343, 'role': 'DUO_SUPPORT', 'lane': 'MID'}, {'platformId': 'EUW1', 'gameId': 4418125222, 'champion': 91, 'queue': 900, 'season': 13, 'timestamp': 1582048278737, 'role': 'DUO_CARRY', 'lane': 'MID'}, {'platformId': 'EUW1', 'gameId': 4418123100, 'champion': 61, 'queue': 900, 'season': 13, 'timestamp': 1582047523287, 'role': 'DUO', 'lane': 'NONE'}, {'platformId': 'EUW1', 'gameId': 4418057649, 'champion': 30, 'queue': 900, 'season': 13, 'timestamp': 1582045899167, 'role': 'NONE', 'lane': 'JUNGLE'}, {'platformId': 'EUW1', 'gameId': 4417899698, 'champion': 15, 'queue': 900, 'season': 13, 'timestamp': 1582042576686, 'role': 'DUO_SUPPORT', 'lane': 'NONE'}, {'platformId': 'EUW1', 'gameId': 4417672479, 'champion': 350, 'queue': 900, 'season': 13, 'timestamp': 1582035046487, 'role': 'DUO_SUPPORT', 'lane': 'BOTTOM'}, {'platformId': 'EUW1', 'gameId': 4417495297, 'champion': 107, 'queue': 900, 'season': 13, 'timestamp': 1582031919228, 'role': 'DUO_SUPPORT', 'lane': 'NONE'}, {'platformId': 'EUW1', 'gameId': 4417395589, 'champion': 203, 'queue': 900, 'season': 13, 'timestamp': 1582030468780, 'role': 'DUO_SUPPORT', 'lane': 'NONE'}, {'platformId': 'EUW1', 'gameId': 4417298048, 'champion': 42, 'queue': 900, 'season': 13, 'timestamp': 1582025890222, 'role': 'DUO_SUPPORT', 'lane': 'NONE'}, {'platformId': 'EUW1', 'gameId': 4417296073, 'champion': 50, 'queue': 900, 'season': 13, 'timestamp': 1582024305205, 'role': 'DUO_CARRY', 'lane': 'MID'}, {'platformId': 'EUW1', 'gameId': 4417238185, 'champion': 236, 'queue': 900, 'season': 13, 'timestamp': 1582017096424, 'role': 'DUO_SUPPORT', 'lane': 'NONE'}, {'platformId': 'EUW1', 'gameId': 4417246859, 'champion': 98, 'queue': 900, 'season': 13, 'timestamp': 1582015651772, 'role': 'NONE', 'lane': 'JUNGLE'}, {'platformId': 'EUW1', 'gameId': 4417196620, 'champion': 96, 'queue': 900, 'season': 13, 'timestamp': 1582012249816, 'role': 'DUO_SUPPORT', 'lane': 'NONE'}, {'platformId': 'EUW1', 'gameId': 4416546348, 'champion': 131, 'queue': 900, 'season': 13, 'timestamp': 1581961311449, 'role': 'DUO_SUPPORT', 'lane': 'NONE'}, {'platformId': 'EUW1', 'gameId': 4416503997, 'champion': 13, 'queue': 900, 'season': 13, 'timestamp': 1581960110669, 'role': 'DUO_SUPPORT', 'lane': 'NONE'}, {'platformId': 'EUW1', 'gameId': 4416324111, 'champion': 41, 'queue': 900, 'season': 13, 'timestamp': 1581952234149, 'role': 'DUO', 'lane': 'TOP'}, {'platformId': 'EUW1', 'gameId': 4416267163, 'champion': 82, 'queue': 900, 'season': 13, 'timestamp': 1581949285977, 'role': 'DUO', 'lane': 'TOP'}, {'platformId': 'EUW1', 'gameId': 4415531585, 'champion': 115, 'queue': 900, 'season': 13, 'timestamp': 1581882000224, 'role': 'NONE', 'lane': 'JUNGLE'}, {'platformId': 'EUW1', 'gameId': 4415454222, 'champion': 7, 'queue': 900, 'season': 13, 'timestamp': 1581879860326, 'role': 'NONE', 'lane': 'JUNGLE'}, {'platformId': 'EUW1', 'gameId': 4415329457, 'champion': 120, 'queue': 900, 'season': 13, 'timestamp': 1581878182845, 'role': 'NONE', 'lane': 'JUNGLE'}, {'platformId': 'EUW1', 'gameId': 4415119335, 'champion': 63, 'queue': 900, 'season': 13, 'timestamp': 1581869334567, 'role': 'DUO', 'lane': 'TOP'}, {'platformId': 'EUW1', 'gameId': 4414701867, 'champion': 5, 'queue': 900, 'season': 13, 'timestamp': 1581856246745, 'role': 'NONE', 'lane': 'JUNGLE'}, {'platformId': 'EUW1', 'gameId': 4414409143, 'champion': 114, 'queue': 900, 'season': 13, 'timestamp': 1581855011942, 'role': 'DUO_SUPPORT', 'lane': 'NONE'}, {'platformId': 'EUW1', 'gameId': 4414223483, 'champion': 141, 'queue': 900, 'season': 13, 'timestamp': 1581845039407, 'role': 'DUO_SUPPORT', 'lane': 'NONE'}, {'platformId': 'EUW1', 'gameId': 4414290923, 'champion': 23, 'queue': 900, 'season': 13, 'timestamp': 1581843774890, 'role': 'DUO_SUPPORT', 'lane': 'NONE'}, {'platformId': 'EUW1', 'gameId': 4413607193, 'champion': 24, 'queue': 900, 'season': 13, 'timestamp': 1581796285025, 'role': 'SOLO', 'lane': 'MID'}], 'startIndex': 0, 'endIndex': 100, 'totalGames': 180}\n"
          ],
          "name": "stdout"
        }
      ]
    },
    {
      "cell_type": "code",
      "metadata": {
        "id": "ePwfbkPztsEl",
        "colab_type": "code",
        "outputId": "9750620f-4a42-442b-b08b-5536ca8abe00",
        "colab": {
          "base_uri": "https://localhost:8080/",
          "height": 34
        }
      },
      "source": [
        "_match[\"totalGames\"]"
      ],
      "execution_count": 0,
      "outputs": [
        {
          "output_type": "execute_result",
          "data": {
            "text/plain": [
              "180"
            ]
          },
          "metadata": {
            "tags": []
          },
          "execution_count": 34
        }
      ]
    },
    {
      "cell_type": "code",
      "metadata": {
        "id": "6JQ7tjrwt6FM",
        "colab_type": "code",
        "outputId": "44a236cf-3168-4507-ecbb-4894ce6450d8",
        "colab": {
          "base_uri": "https://localhost:8080/",
          "height": 204
        }
      },
      "source": [
        "df_matches = pd.DataFrame(_match[\"matches\"])\n",
        "df_matches['date'] = pd.to_datetime(df_matches['timestamp'], unit='ms')\n",
        "df_matches.tail()"
      ],
      "execution_count": 0,
      "outputs": [
        {
          "output_type": "execute_result",
          "data": {
            "text/html": [
              "<div>\n",
              "<style scoped>\n",
              "    .dataframe tbody tr th:only-of-type {\n",
              "        vertical-align: middle;\n",
              "    }\n",
              "\n",
              "    .dataframe tbody tr th {\n",
              "        vertical-align: top;\n",
              "    }\n",
              "\n",
              "    .dataframe thead th {\n",
              "        text-align: right;\n",
              "    }\n",
              "</style>\n",
              "<table border=\"1\" class=\"dataframe\">\n",
              "  <thead>\n",
              "    <tr style=\"text-align: right;\">\n",
              "      <th></th>\n",
              "      <th>platformId</th>\n",
              "      <th>gameId</th>\n",
              "      <th>champion</th>\n",
              "      <th>queue</th>\n",
              "      <th>season</th>\n",
              "      <th>timestamp</th>\n",
              "      <th>role</th>\n",
              "      <th>lane</th>\n",
              "      <th>date</th>\n",
              "    </tr>\n",
              "  </thead>\n",
              "  <tbody>\n",
              "    <tr>\n",
              "      <th>95</th>\n",
              "      <td>EUW1</td>\n",
              "      <td>4414701867</td>\n",
              "      <td>5</td>\n",
              "      <td>900</td>\n",
              "      <td>13</td>\n",
              "      <td>1581856246745</td>\n",
              "      <td>NONE</td>\n",
              "      <td>JUNGLE</td>\n",
              "      <td>2020-02-16 12:30:46.745</td>\n",
              "    </tr>\n",
              "    <tr>\n",
              "      <th>96</th>\n",
              "      <td>EUW1</td>\n",
              "      <td>4414409143</td>\n",
              "      <td>114</td>\n",
              "      <td>900</td>\n",
              "      <td>13</td>\n",
              "      <td>1581855011942</td>\n",
              "      <td>DUO_SUPPORT</td>\n",
              "      <td>NONE</td>\n",
              "      <td>2020-02-16 12:10:11.942</td>\n",
              "    </tr>\n",
              "    <tr>\n",
              "      <th>97</th>\n",
              "      <td>EUW1</td>\n",
              "      <td>4414223483</td>\n",
              "      <td>141</td>\n",
              "      <td>900</td>\n",
              "      <td>13</td>\n",
              "      <td>1581845039407</td>\n",
              "      <td>DUO_SUPPORT</td>\n",
              "      <td>NONE</td>\n",
              "      <td>2020-02-16 09:23:59.407</td>\n",
              "    </tr>\n",
              "    <tr>\n",
              "      <th>98</th>\n",
              "      <td>EUW1</td>\n",
              "      <td>4414290923</td>\n",
              "      <td>23</td>\n",
              "      <td>900</td>\n",
              "      <td>13</td>\n",
              "      <td>1581843774890</td>\n",
              "      <td>DUO_SUPPORT</td>\n",
              "      <td>NONE</td>\n",
              "      <td>2020-02-16 09:02:54.890</td>\n",
              "    </tr>\n",
              "    <tr>\n",
              "      <th>99</th>\n",
              "      <td>EUW1</td>\n",
              "      <td>4413607193</td>\n",
              "      <td>24</td>\n",
              "      <td>900</td>\n",
              "      <td>13</td>\n",
              "      <td>1581796285025</td>\n",
              "      <td>SOLO</td>\n",
              "      <td>MID</td>\n",
              "      <td>2020-02-15 19:51:25.025</td>\n",
              "    </tr>\n",
              "  </tbody>\n",
              "</table>\n",
              "</div>"
            ],
            "text/plain": [
              "   platformId      gameId  ...    lane                    date\n",
              "95       EUW1  4414701867  ...  JUNGLE 2020-02-16 12:30:46.745\n",
              "96       EUW1  4414409143  ...    NONE 2020-02-16 12:10:11.942\n",
              "97       EUW1  4414223483  ...    NONE 2020-02-16 09:23:59.407\n",
              "98       EUW1  4414290923  ...    NONE 2020-02-16 09:02:54.890\n",
              "99       EUW1  4413607193  ...     MID 2020-02-15 19:51:25.025\n",
              "\n",
              "[5 rows x 9 columns]"
            ]
          },
          "metadata": {
            "tags": []
          },
          "execution_count": 35
        }
      ]
    },
    {
      "cell_type": "code",
      "metadata": {
        "id": "ApllANaeuMYM",
        "colab_type": "code",
        "outputId": "7c219c35-3d4f-447d-e469-d5199ef54611",
        "colab": {
          "base_uri": "https://localhost:8080/",
          "height": 34
        }
      },
      "source": [
        "df_matches.shape"
      ],
      "execution_count": 0,
      "outputs": [
        {
          "output_type": "execute_result",
          "data": {
            "text/plain": [
              "(100, 9)"
            ]
          },
          "metadata": {
            "tags": []
          },
          "execution_count": 36
        }
      ]
    },
    {
      "cell_type": "code",
      "metadata": {
        "id": "wy96nkSFuSDF",
        "colab_type": "code",
        "outputId": "554a8521-e51a-4b74-d030-aca484ef9b69",
        "colab": {
          "base_uri": "https://localhost:8080/",
          "height": 34
        }
      },
      "source": [
        "_match_details = lol_watcher.match.timeline_by_match(region=my_region, match_id=4413516946)\n",
        "_match_details.keys()"
      ],
      "execution_count": 0,
      "outputs": [
        {
          "output_type": "execute_result",
          "data": {
            "text/plain": [
              "dict_keys(['frames', 'frameInterval'])"
            ]
          },
          "metadata": {
            "tags": []
          },
          "execution_count": 57
        }
      ]
    },
    {
      "cell_type": "code",
      "metadata": {
        "id": "jvdoKTlhBWR8",
        "colab_type": "code",
        "outputId": "1f2335a8-54b5-44dd-fe03-3224c19e6120",
        "colab": {
          "base_uri": "https://localhost:8080/",
          "height": 34
        }
      },
      "source": [
        "_frame_details = _match_details[\"frames\"]\n",
        "_frame_details[0].keys()"
      ],
      "execution_count": 0,
      "outputs": [
        {
          "output_type": "execute_result",
          "data": {
            "text/plain": [
              "dict_keys(['participantFrames', 'events', 'timestamp'])"
            ]
          },
          "metadata": {
            "tags": []
          },
          "execution_count": 59
        }
      ]
    },
    {
      "cell_type": "code",
      "metadata": {
        "id": "rEq1pJWXCd_C",
        "colab_type": "code",
        "outputId": "e1c8b28c-21b0-4d3f-abdd-f7b0776546c3",
        "colab": {
          "base_uri": "https://localhost:8080/",
          "height": 54
        }
      },
      "source": [
        "for i in range(len(_frame_details)):\n",
        "  _frame = _frame_details[i]\n",
        "  if _frame['events'] != []:\n",
        "    print(_frame['events'])\n",
        "    break"
      ],
      "execution_count": 0,
      "outputs": [
        {
          "output_type": "stream",
          "text": [
            "[{'type': 'SKILL_LEVEL_UP', 'timestamp': 2874, 'participantId': 2, 'skillSlot': 1, 'levelUpType': 'NORMAL'}, {'type': 'ITEM_PURCHASED', 'timestamp': 6599, 'participantId': 8, 'itemId': 1055}, {'type': 'ITEM_PURCHASED', 'timestamp': 9523, 'participantId': 8, 'itemId': 2003}, {'type': 'ITEM_PURCHASED', 'timestamp': 9589, 'participantId': 1, 'itemId': 1052}, {'type': 'ITEM_PURCHASED', 'timestamp': 10018, 'participantId': 10, 'itemId': 1052}, {'type': 'ITEM_PURCHASED', 'timestamp': 10447, 'participantId': 1, 'itemId': 2003}, {'type': 'ITEM_PURCHASED', 'timestamp': 10950, 'participantId': 2, 'itemId': 1054}, {'type': 'ITEM_PURCHASED', 'timestamp': 11383, 'participantId': 2, 'itemId': 2003}, {'type': 'ITEM_PURCHASED', 'timestamp': 11416, 'participantId': 1, 'itemId': 3340}, {'type': 'ITEM_PURCHASED', 'timestamp': 11686, 'participantId': 2, 'itemId': 3340}, {'type': 'ITEM_PURCHASED', 'timestamp': 12512, 'participantId': 7, 'itemId': 1054}, {'type': 'SKILL_LEVEL_UP', 'timestamp': 12578, 'participantId': 10, 'skillSlot': 1, 'levelUpType': 'NORMAL'}, {'type': 'ITEM_PURCHASED', 'timestamp': 13081, 'participantId': 7, 'itemId': 2003}, {'type': 'ITEM_PURCHASED', 'timestamp': 13612, 'participantId': 7, 'itemId': 3340}, {'type': 'ITEM_PURCHASED', 'timestamp': 15095, 'participantId': 6, 'itemId': 1052}, {'type': 'ITEM_PURCHASED', 'timestamp': 16761, 'participantId': 6, 'itemId': 3340}, {'type': 'SKILL_LEVEL_UP', 'timestamp': 21810, 'participantId': 6, 'skillSlot': 1, 'levelUpType': 'NORMAL'}, {'type': 'SKILL_LEVEL_UP', 'timestamp': 22506, 'participantId': 1, 'skillSlot': 1, 'levelUpType': 'NORMAL'}, {'type': 'SKILL_LEVEL_UP', 'timestamp': 24593, 'participantId': 7, 'skillSlot': 1, 'levelUpType': 'NORMAL'}, {'type': 'WARD_PLACED', 'timestamp': 25088, 'wardType': 'UNDEFINED', 'creatorId': 10}, {'type': 'WARD_PLACED', 'timestamp': 25088, 'wardType': 'UNDEFINED', 'creatorId': 0}, {'type': 'WARD_PLACED', 'timestamp': 25088, 'wardType': 'UNDEFINED', 'creatorId': 10}, {'type': 'WARD_PLACED', 'timestamp': 25088, 'wardType': 'UNDEFINED', 'creatorId': 0}, {'type': 'SKILL_LEVEL_UP', 'timestamp': 26681, 'participantId': 3, 'skillSlot': 1, 'levelUpType': 'NORMAL'}, {'type': 'WARD_PLACED', 'timestamp': 26747, 'wardType': 'YELLOW_TRINKET', 'creatorId': 10}, {'type': 'ITEM_PURCHASED', 'timestamp': 28232, 'participantId': 5, 'itemId': 3850}, {'type': 'ITEM_PURCHASED', 'timestamp': 28529, 'participantId': 5, 'itemId': 2003}, {'type': 'ITEM_PURCHASED', 'timestamp': 28694, 'participantId': 5, 'itemId': 2003}, {'type': 'ITEM_PURCHASED', 'timestamp': 28958, 'participantId': 5, 'itemId': 3340}, {'type': 'ITEM_PURCHASED', 'timestamp': 29129, 'participantId': 3, 'itemId': 1052}, {'type': 'WARD_PLACED', 'timestamp': 29821, 'wardType': 'YELLOW_TRINKET', 'creatorId': 2}, {'type': 'ITEM_PURCHASED', 'timestamp': 30019, 'participantId': 3, 'itemId': 2003}, {'type': 'ITEM_PURCHASED', 'timestamp': 30604, 'participantId': 9, 'itemId': 1054}, {'type': 'ITEM_PURCHASED', 'timestamp': 31247, 'participantId': 9, 'itemId': 3364}, {'type': 'SKILL_LEVEL_UP', 'timestamp': 34687, 'participantId': 5, 'skillSlot': 3, 'levelUpType': 'NORMAL'}, {'type': 'ITEM_DESTROYED', 'timestamp': 36946, 'participantId': 1, 'itemId': 2003}, {'type': 'WARD_PLACED', 'timestamp': 38562, 'wardType': 'YELLOW_TRINKET', 'creatorId': 6}, {'type': 'SKILL_LEVEL_UP', 'timestamp': 42969, 'participantId': 8, 'skillSlot': 1, 'levelUpType': 'NORMAL'}, {'type': 'ITEM_PURCHASED', 'timestamp': 44231, 'participantId': 4, 'itemId': 1036}, {'type': 'ITEM_PURCHASED', 'timestamp': 45023, 'participantId': 4, 'itemId': 3340}, {'type': 'ITEM_PURCHASED', 'timestamp': 45518, 'participantId': 4, 'itemId': 2003}, {'type': 'SKILL_LEVEL_UP', 'timestamp': 48724, 'participantId': 4, 'skillSlot': 2, 'levelUpType': 'NORMAL'}]\n"
          ],
          "name": "stdout"
        }
      ]
    },
    {
      "cell_type": "code",
      "metadata": {
        "id": "lsELn1axCgfH",
        "colab_type": "code",
        "colab": {}
      },
      "source": [
        "for i in range(len(_frame_details)):\n",
        "  _participant_details = _frame_details[i]['participantFrames']"
      ],
      "execution_count": 0,
      "outputs": []
    }
  ]
}